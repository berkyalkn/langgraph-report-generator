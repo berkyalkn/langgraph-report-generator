{
 "cells": [
  {
   "cell_type": "code",
   "execution_count": 1,
   "metadata": {},
   "outputs": [],
   "source": [
    "import os\n",
    "import operator\n",
    "from dotenv import load_dotenv\n",
    "from typing import Annotated, List\n",
    "from typing_extensions import TypedDict, Literal\n",
    "\n",
    "from pydantic import BaseModel, Field\n",
    "from langchain.chat_models import init_chat_model\n",
    "from langchain_core.messages import HumanMessage, SystemMessage\n",
    "from langgraph.graph import StateGraph, START, END\n",
    "from IPython.display import Image, display, Markdown\n",
    "from langchain_tavily import TavilySearch"
   ]
  },
  {
   "cell_type": "code",
   "execution_count": 2,
   "metadata": {},
   "outputs": [],
   "source": [
    "load_dotenv()\n",
    "\n",
    "groq_api_key = os.getenv(\"GROQ_API_KEY\")\n",
    "tavily_api_key = os.getenv(\"TAVILY_API_KEY\")"
   ]
  },
  {
   "cell_type": "code",
   "execution_count": 3,
   "metadata": {},
   "outputs": [],
   "source": [
    "llm = init_chat_model(\"groq:llama-3.3-70b-versatile\")\n",
    "\n",
    "tavily_tool = TavilySearch(max_results=3)"
   ]
  },
  {
   "cell_type": "code",
   "execution_count": 4,
   "metadata": {},
   "outputs": [],
   "source": [
    "class Section(BaseModel):\n",
    "    name: str = Field(description=\"Name for this section of the report.\")\n",
    "    description: str = Field(description=\"A brief overview of the main topics and concepts to be covered in this section.\")\n",
    "\n",
    "class Sections(BaseModel):\n",
    "    sections: List[Section] = Field(description=\"The sections of the report.\")\n",
    "\n",
    "class ReportState(TypedDict):\n",
    "    topic: str\n",
    "    sections: List[Section]\n",
    "    research_data: Annotated[list, operator.add]\n",
    "    completed_sections: Annotated[list, operator.add]\n",
    "    final_report: str\n"
   ]
  },
  {
   "cell_type": "code",
   "execution_count": 5,
   "metadata": {},
   "outputs": [],
   "source": [
    "def orchestrator(state: ReportState):\n",
    "    \"\"\"Orchestrator: Creates a plan (sections) for the report.\"\"\"\n",
    "    print(\"--- RUNNING ORCHESTRATOR ---\")\n",
    "    planner = llm.with_structured_output(Sections)\n",
    "    report_sections = planner.invoke([\n",
    "        SystemMessage(content=\"Create a detailed and comprehensive plan for a report.\"),\n",
    "        HumanMessage(content=f\"The report topic is: {state['topic']}\"),\n",
    "    ])\n",
    "    return {\"sections\": report_sections.sections}\n"
   ]
  },
  {
   "cell_type": "code",
   "execution_count": 6,
   "metadata": {},
   "outputs": [],
   "source": [
    "def researcher(state: ReportState):\n",
    "    \"\"\"Researcher: Conducts web searches for each planned section.\"\"\"\n",
    "    print(\"--- RUNNING RESEARCHER ---\")\n",
    "    research_results = []\n",
    "    sections = state['sections']\n",
    "    for section in sections:\n",
    "        print(f\"-> Researching section: {section.name}\")\n",
    "        query = f\"in-depth information on: {state['topic']} - {section.name}: {section.description}\"\n",
    "        search_result = tavily_tool.invoke(query)\n",
    "        research_results.append({\n",
    "            \"section_name\": section.name,\n",
    "            \"research\": search_result\n",
    "        })\n",
    "    return {\"research_data\": research_results}\n"
   ]
  },
  {
   "cell_type": "code",
   "execution_count": 7,
   "metadata": {},
   "outputs": [],
   "source": [
    "def writer(state: ReportState):\n",
    "    \"\"\"Writer: Writes each section using the corresponding research data.\"\"\"\n",
    "    print(\"--- RUNNING WRITER ---\")\n",
    "    written_sections = []\n",
    "    sections = state['sections']\n",
    "    research_data = state['research_data']\n",
    "\n",
    "    for section, research in zip(sections, research_data):\n",
    "        print(f\"-> Writing section: {section.name}\")\n",
    "        writer_prompt = f\"\"\"\n",
    "        Write the following section in detail, using the provided research findings.\n",
    "        Write only the section content, without a title and without any preamble. Use Markdown formatting.\n",
    "\n",
    "        SECTION NAME: {section.name}\n",
    "        SECTION DESCRIPTION: {section.description}\n",
    "\n",
    "        RESEARCH FINDINGS TO USE:\n",
    "        {research['research']}\n",
    "        \"\"\"\n",
    "        section_content = llm.invoke([\n",
    "            SystemMessage(content=\"You are an expert report writer.\"),\n",
    "            HumanMessage(content=writer_prompt),\n",
    "        ]).content\n",
    "        full_section = f\"## {section.name}\\n\\n{section_content}\"\n",
    "        written_sections.append(full_section)\n",
    "\n",
    "    return {\"completed_sections\": written_sections}\n"
   ]
  },
  {
   "cell_type": "code",
   "execution_count": 8,
   "metadata": {},
   "outputs": [],
   "source": [
    "def synthesizer(state: ReportState):\n",
    "    \"\"\"Synthesizer: Combines all completed sections into the final report.\"\"\"\n",
    "    print(\"--- RUNNING SYNTHESIZER ---\")\n",
    "    completed_sections = state[\"completed_sections\"]\n",
    "    final_report = \"\\n\\n---\\n\\n\".join(completed_sections)\n",
    "    return {\"final_report\": final_report}\n"
   ]
  },
  {
   "cell_type": "code",
   "execution_count": 10,
   "metadata": {},
   "outputs": [
    {
     "data": {
      "image/png": "[encoded data removed]",
      "text/plain": [
       "<IPython.core.display.Image object>"
      ]
     },
     "metadata": {},
     "output_type": "display_data"
    }
   ],
   "source": [
    "workflow = StateGraph(ReportState)\n",
    "\n",
    "workflow.add_node(\"orchestrator\", orchestrator)\n",
    "workflow.add_node(\"researcher\", researcher)\n",
    "workflow.add_node(\"writer\", writer)\n",
    "workflow.add_node(\"synthesizer\", synthesizer)\n",
    "\n",
    "\n",
    "workflow.add_edge(START, \"orchestrator\")\n",
    "workflow.add_edge(\"orchestrator\", \"researcher\")\n",
    "workflow.add_edge(\"researcher\", \"writer\")\n",
    "workflow.add_edge(\"writer\", \"synthesizer\")\n",
    "workflow.add_edge(\"synthesizer\", END)\n",
    "\n",
    "app = workflow.compile()\n",
    "\n",
    "display(Image(app.get_graph().draw_mermaid_png()))"
   ]
  },
  {
   "cell_type": "code",
   "execution_count": 11,
   "metadata": {},
   "outputs": [
    {
     "name": "stdout",
     "output_type": "stream",
     "text": [
      "--- RUNNING ORCHESTRATOR ---\n",
      "--- RUNNING RESEARCHER ---\n",
      "-> Researching section: Introduction\n",
      "-> Researching section: Early Life and High School Career\n",
      "-> Researching section: Professional Career\n",
      "-> Researching section: Awards and Accolades\n",
      "-> Researching section: Impact on the NBA\n",
      "-> Researching section: Conclusion\n",
      "--- RUNNING WRITER ---\n",
      "-> Writing section: Introduction\n",
      "-> Writing section: Early Life and High School Career\n",
      "-> Writing section: Professional Career\n",
      "-> Writing section: Awards and Accolades\n",
      "-> Writing section: Impact on the NBA\n",
      "-> Writing section: Conclusion\n",
      "--- RUNNING SYNTHESIZER ---\n"
     ]
    },
    {
     "data": {
      "text/markdown": [
       "## Introduction\n",
       "\n",
       "### Early Life and Career\n",
       "LeBron James, born on December 30, 1984, in Akron, Ohio, is an American professional basketball player widely regarded as one of the greatest all-around players of all time. His impressive career spans over two decades, with numerous accolades and achievements that have cemented his position as a legend in the National Basketball Association (NBA).\n",
       "\n",
       "### NBA Championships and Accolades\n",
       "James has won NBA championships with the Miami Heat (2012 and 2013), the Cleveland Cavaliers (2016), and the Los Angeles Lakers (2020), demonstrating his ability to perform under pressure and lead his teams to victory. In the 2011-2012 season, he averaged 27.1 points per game and won his third MVP award, helping Miami advance to its second consecutive NBA finals appearance. His exceptional skills on the court have earned him numerous awards and recognition, including being named Ohio Mr. Basketball and selected to the _USA Today_ All-USA First Team.\n",
       "\n",
       "### Impact on the NBA\n",
       "James' impact on the NBA extends beyond his impressive statistics and championship wins. He has been a trailblazer for players, using his platform to speak out on social issues and challenge the status quo. His decision to leave Cleveland and join the Miami Heat in 2010 sparked a national debate, with some criticizing his move as \"cowardly\" and \"selfish.\" However, James has consistently demonstrated his commitment to his craft and his community, using his influence to bring attention to important issues and inspire a new generation of players and fans.\n",
       "\n",
       "### Records and Achievements\n",
       "Throughout his career, James has set numerous records and achieved impressive milestones. He became the first player in NBA history to average a triple-double in the Finals, with a statistical line of 33.6 points, 12 rebounds, and 10 assists across the series. His ability to dominate the game and lead his team to victory has earned him a reputation as one of the greatest players of all time, with many comparing him to legends like Magic Johnson and Michael Jordan.\n",
       "\n",
       "---\n",
       "\n",
       "## Early Life and High School Career\n",
       "\n",
       "### Family Background and Early Life\n",
       "LeBron James was born on December 30, 1984, in Akron, Ohio, to Gloria James, a single mother. His father, Anthony McClelland, was not actively involved in his life. Despite the challenges they faced, Gloria worked tirelessly to provide for LeBron and his family. The James family struggled financially, and they often had to move from one apartment to another. However, Gloria's dedication and support played a significant role in shaping LeBron's early life and career.\n",
       "\n",
       "### Introduction to Basketball\n",
       "LeBron's introduction to basketball came at a young age. He started playing organized basketball at the age of five and quickly fell in love with the game. He joined a local youth basketball league, where he developed his skills and learned the fundamentals of the game. As he grew older, LeBron's passion for basketball only intensified, and he began to dream of playing in the NBA.\n",
       "\n",
       "### High School Career\n",
       "LeBron attended St. Vincent-St. Mary High School in Akron, where he quickly became a dominant force on the basketball court. He led the team to three state championships and was named Ohio's Mr. Basketball three times. During his senior year, LeBron averaged 31.6 points, 9.6 rebounds, and 4.6 assists per game, earning him numerous awards and accolades, including the Naismith Trophy, the McDonald's All-American Game MVP, and the USA Today Player of the Year award.\n",
       "\n",
       "### Factors Contributing to Success\n",
       "Several factors contributed to LeBron's success during his early life and high school career. His mother's unwavering support and dedication played a significant role in his development as a basketball player. Additionally, LeBron's natural talent, combined with his strong work ethic and determination, helped him to excel on the court. His experience playing in local youth basketball leagues and his participation in national basketball tournaments also helped him to gain exposure and develop his skills.\n",
       "\n",
       "### National Recognition\n",
       "LeBron's impressive performance in high school earned him national recognition. He was featured on the cover of *Sports Illustrated* at the age of 17, becoming one of the youngest players to ever appear on the cover. He also appeared in numerous other publications, including *ESPN The Magazine* and *SLAM Magazine*. The national attention and accolades LeBron received during his high school career helped to pave the way for his future success in the NBA.\n",
       "\n",
       "---\n",
       "\n",
       "## Professional Career\n",
       "\n",
       "### Introduction to Professional Career\n",
       "LeBron James is widely regarded as one of the greatest all-around players in the history of the National Basketball Association (NBA). Born on December 30, 1984, in Akron, Ohio, James has had a storied professional career, playing for the Cleveland Cavaliers, Miami Heat, and Los Angeles Lakers.\n",
       "\n",
       "### Cleveland Cavaliers (2003-2010, 2014-2018)\n",
       "James was drafted first overall by the Cleveland Cavaliers in 2003 and quickly established himself as a dominant force in the league. During his first stint with the Cavaliers, James averaged 27.8 points, 7.0 rebounds, and 7.0 assists per game, earning him numerous accolades, including four NBA Most Valuable Player (MVP) awards. In 2016, James led the Cavaliers to their first NBA championship, defeating the Golden State Warriors in the NBA Finals.\n",
       "\n",
       "### Miami Heat (2010-2014)\n",
       "In 2010, James joined the Miami Heat, where he won two consecutive NBA championships (2012 and 2013) alongside Dwyane Wade and Chris Bosh. During his time with the Heat, James averaged 26.9 points, 7.7 rebounds, and 6.7 assists per game, solidifying his position as one of the league's top players.\n",
       "\n",
       "### Los Angeles Lakers (2018-present)\n",
       "In 2018, James signed with the Los Angeles Lakers, where he has continued to excel, leading the team to an NBA championship in 2020. James has averaged 25.7 points, 7.9 rebounds, and 7.2 assists per game with the Lakers, further cementing his legacy as one of the greatest players in NBA history.\n",
       "\n",
       "### Notable Achievements and Records\n",
       "Throughout his career, James has achieved numerous notable records and milestones, including:\n",
       "* Four NBA Most Valuable Player (MVP) awards\n",
       "* Four NBA championships (2012, 2013, 2016, and 2020)\n",
       "* Four NBA Finals MVP awards\n",
       "* 17 NBA All-Star Game selections\n",
       "* Two Olympic gold medals\n",
       "* Youngest player to reach 35,000 career points\n",
       "\n",
       "### Impact on the NBA\n",
       "James' impact on the NBA extends beyond his on-court accomplishments. He has been an influential figure in the league, using his platform to speak out on social justice issues and advocate for players' rights. James' decision to leave Cleveland for Miami in 2010 sparked a national debate about player movement and loyalty, and his subsequent return to Cleveland in 2014 was seen as a testament to his commitment to his hometown. Today, James remains one of the most dominant players in the league, continuing to inspire and influence a new generation of players and fans.\n",
       "\n",
       "---\n",
       "\n",
       "## Awards and Accolades\n",
       "\n",
       "### Awards and Accolades\n",
       "LeBron James has accumulated numerous awards and accolades throughout his illustrious career, solidifying his position as one of the greatest players in NBA history. His impressive list of achievements includes:\n",
       "* **Four NBA Championships**: James won two championships with the Miami Heat (2012 and 2013), one with the Cleveland Cavaliers (2016), and one with the Los Angeles Lakers (2020).\n",
       "* **Four NBA Finals MVPs**: He was named the NBA Finals MVP in 2012, 2013, 2016, and 2020, demonstrating his exceptional performance in the championship series.\n",
       "* **Four Regular-Season MVPs**: James has been awarded the regular-season MVP title four times, recognizing his outstanding overall performance during the season.\n",
       "* **20 All-Star Appearances**: He has been selected to the NBA All-Star Game 20 times, showcasing his consistent excellence and dominance in the league.\n",
       "* **20 All-NBA Selections**: James has been named to the All-NBA Team 20 times, highlighting his status as one of the best players in the league.\n",
       "* **Six All-Defensive Awards**: He has received six All-Defensive awards, demonstrating his exceptional defensive skills and ability to guard multiple positions.\n",
       "* **Three Olympic Gold Medals**: James has won three Olympic gold medals, showcasing his ability to perform at the highest level on the international stage.\n",
       "* **2024 Olympic MVP**: He was named the MVP of the 2024 Olympics, further solidifying his reputation as one of the greatest players of all time.\n",
       "* **Inaugural NBA Cup MVP**: James was awarded the inaugural NBA Cup MVP, recognizing his outstanding performance in the tournament.\n",
       "* **Three All-Star MVPs**: He has been named the NBA All-Star Game MVP three times, demonstrating his ability to excel in showcase events.\n",
       "With career averages of 27.1 points, 7.5 rebounds, and 7.4 assists per game, James has established himself as an all-time great, with his numerous awards and accolades serving as a testament to his hard work, dedication, and unwavering commitment to excellence.\n",
       "\n",
       "---\n",
       "\n",
       "## Impact on the NBA\n",
       "\n",
       "### Influence on the Game\n",
       "LeBron James is widely regarded as one of the greatest basketball players in NBA history, with a career spanning over two decades. His impact on the game is multifaceted, with his impressive statistics and accolades being a testament to his incredible skill and dedication. As a four-time NBA champion, four-time finals MVP, and four-time NBA MVP, LeBron has consistently demonstrated his ability to perform at an elite level, inspiring a new generation of players with his work ethic and passion for the game.\n",
       "\n",
       "### Shaping the League's Culture\n",
       "LeBron's influence extends beyond his on-court accomplishments, as he has played a significant role in shaping the league's culture. His decision to leave Cleveland and join the Miami Heat in 2010, for example, marked a significant shift in the way players approached free agency and team building. This move sparked a national debate, with some criticizing LeBron for his perceived disloyalty to his hometown team. However, LeBron's actions also highlighted the complexities of player movement and the business side of the NBA, sparking important conversations about player empowerment and the role of superstars in shaping the league.\n",
       "\n",
       "### Legacy and Impact on the NBA\n",
       "LeBron's legacy continues to grow, with his on-court achievements and off-court activism cementing his status as one of the most influential figures in the NBA. His commitment to social justice and community development has inspired a new generation of players to use their platforms for positive change. Furthermore, LeBron's entrepreneurial ventures, including his production company and philanthropic efforts, have demonstrated his dedication to creating opportunities for underrepresented groups and promoting education and economic empowerment. As a result, LeBron's impact on the NBA extends far beyond his playing career, with his influence likely to be felt for generations to come.\n",
       "\n",
       "### Statistical Achievements and Records\n",
       "LeBron's impressive statistical achievements are a testament to his enduring impact on the game. His record as the first player in NBA history to average a triple-double in the Finals, with a statistical line of 33.6 points, 12 rebounds, and 10 assists across the series, is a remarkable achievement that highlights his incredible versatility and dominance on the court. Additionally, his four NBA championships, four MVP awards, and numerous other accolades demonstrate his consistent excellence and dedication to the sport.\n",
       "\n",
       "### Conclusion\n",
       "In conclusion, LeBron James' impact on the NBA is profound and far-reaching, with his influence extending beyond his on-court accomplishments to shape the league's culture, inspire a new generation of players, and promote positive change through his social justice and community development efforts. As one of the greatest basketball players in NBA history, LeBron's legacy will continue to grow, with his impact on the game and the league likely to be felt for generations to come.\n",
       "\n",
       "---\n",
       "\n",
       "## Conclusion\n",
       "\n",
       "### Summary of LeBron James' Career\n",
       "LeBron James is widely regarded as one of the greatest all-around players in the history of the National Basketball Association (NBA). Born on December 30, 1984, in Akron, Ohio, James has had a storied career spanning over two decades. He has won numerous accolades, including four NBA championships with the Miami Heat, Cleveland Cavaliers, and Los Angeles Lakers.\n",
       "\n",
       "### Lasting Impact on the NBA\n",
       "Throughout his career, James has consistently demonstrated his exceptional skills on the court, earning him multiple Most Valuable Player (MVP) awards. In the 2011-2012 season, he averaged 27.1 points per game and led the Miami Heat to their second consecutive NBA finals appearance. James' impressive performance in the playoffs, including scoring over 40 points seven times in 18 Eastern Conference postseason games, solidified his position as one of the greatest players of all time.\n",
       "\n",
       "### Legacy and Achievements\n",
       "James' achievements extend beyond his on-court performance. He has been named Ohio Mr. Basketball and selected to the _USA Today_ All-USA First Team. He also became the first junior to be named male basketball Gatorade National Player of the Year. James' high school career was marked by notable accomplishments, including appearing on the cover of _Sports Illustrated_ and being named to the _USA Today_ All-USA First Team.\n",
       "\n",
       "### Enduring Influence\n",
       "LeBron James' lasting impact on the NBA is undeniable. His impressive career statistics, numerous awards, and consistent dominance on the court have cemented his status as one of the greatest players in NBA history. As he continues to play and inspire new generations of basketball fans, James' legacy will undoubtedly endure for years to come. His influence extends beyond the court, with his philanthropic efforts and commitment to social justice initiatives making a lasting impact on the world of sports and beyond."
      ],
      "text/plain": [
       "<IPython.core.display.Markdown object>"
      ]
     },
     "execution_count": 11,
     "metadata": {},
     "output_type": "execute_result"
    }
   ],
   "source": [
    "topic = \"The career of LeBron James and his impact on the NBA\"\n",
    "initial_state = {\"topic\": topic, \"research_data\": [], \"completed_sections\": []}\n",
    "final_state = app.invoke(initial_state)\n",
    "\n",
    "Markdown(final_state[\"final_report\"])"
   ]
  }
 ],
 "metadata": {
  "kernelspec": {
   "display_name": "Python 3",
   "language": "python",
   "name": "python3"
  },
  "language_info": {
   "codemirror_mode": {
    "name": "ipython",
    "version": 3
   },
   "file_extension": ".py",
   "mimetype": "text/x-python",
   "name": "python",
   "nbconvert_exporter": "python",
   "pygments_lexer": "ipython3",
   "version": "3.13.1"
  }
 },
 "nbformat": 4,
 "nbformat_minor": 2
}
